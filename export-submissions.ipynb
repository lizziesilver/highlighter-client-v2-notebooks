{
  "nbformat": 4,
  "nbformat_minor": 0,
  "metadata": {
    "colab": {
      "name": "train_mmdetection.ipynb",
      "provenance": []
    },
    "kernelspec": {
      "name": "python3",
      "display_name": "Python 3"
    },
    "language_info": {
      "name": "python"
    },
    "accelerator": "GPU"
  },
  "cells": [
    {
      "cell_type": "code",
      "source": [
        "HL_WEB_GRAPHQL_API_TOKEN=\"...\"\n",
        "HL_WEB_GRAPHQL_ENDPOINT=\"https://<account-name>.highlighter.ai/graphql\""
      ],
      "metadata": {
        "id": "cHrsxPvHyk7g"
      },
      "execution_count": null,
      "outputs": []
    },
    {
      "cell_type": "code",
      "execution_count": null,
      "metadata": {
        "id": "CSXtPck7qONj"
      },
      "outputs": [],
      "source": [
        "%%writefile requirements.txt\n",
        "-i https://<PYPI_USERNAME>:<PYPI_PASSWORD>@pypi.silverpond.com.au/simple\n",
        "highlighter-client-v2-alpha==0.2\n"
      ]
    },
    {
      "cell_type": "code",
      "source": [
        "!cat requirements.txt"
      ],
      "metadata": {
        "id": "DWkYiA4ydTJl"
      },
      "execution_count": null,
      "outputs": []
    },
    {
      "cell_type": "code",
      "source": [
        "!!apt-get install libmagic-dev\n",
        "!pip install -r requirements.txt\n"
      ],
      "metadata": {
        "id": "t-sugoHrr0Xy"
      },
      "execution_count": null,
      "outputs": []
    },
    {
      "cell_type": "markdown",
      "source": [
        "# House Keeping"
      ],
      "metadata": {
        "id": "7a9jw3uSeP3H"
      }
    },
    {
      "cell_type": "code",
      "source": [
        "from highlighter_client.gql_client import HLClient\n",
        "\n",
        "# Needed when using HighlighterClient in a notebook environment\n",
        "HLClient._async = True\n",
        "\n",
        "# Small helper function for displaying the DataFrames in the highlighter clinet\n",
        "# dataset object\n",
        "def display_ds(ds, count=10):\n",
        "  display(ds.annotations_df.head(count))\n",
        "  display(ds.images_df.head(count))\n",
        "\n"
      ],
      "metadata": {
        "id": "M0UUUeuy_mMb"
      },
      "execution_count": null,
      "outputs": []
    },
    {
      "cell_type": "markdown",
      "source": [
        "# Create a HLClient object from credentials\n",
        "\n",
        "This client will be used when we need to communicate with Highlighter via GraphQL."
      ],
      "metadata": {
        "id": "V5xgoT06YVuG"
      }
    },
    {
      "cell_type": "code",
      "source": [
        "client = HLClient.from_credential(api_token=HL_WEB_GRAPHQL_API_TOKEN, endpoint_url=HL_WEB_GRAPHQL_ENDPOINT)"
      ],
      "metadata": {
        "id": "3_jUmZFgYUD3"
      },
      "execution_count": null,
      "outputs": []
    },
    {
      "cell_type": "markdown",
      "source": [
        "# Read Dataset from Highlighter\n",
        "\n",
        "`HighlighterClient` represents datasets as two Pandas DataFrames `annotations_df` and `images_df`. We can populate a `HighlighterClient.Dataset` in several ways using `Readers`. You can list the availaible `Readers` and load one from its name. In this case we'll be loading the `HighlighterSubmissionsReader` so we can pull submissions down from Highlighter."
      ],
      "metadata": {
        "id": "yeToktEKYtYC"
      }
    },
    {
      "cell_type": "code",
      "source": [
        "from highlighter_client.datasets import get_reader, READERS\n",
        "\n",
        "print(f\"READERS: {list(READERS.keys())}\")\n",
        "\n",
        "reader = get_reader(\"highlighter_submissions\")()"
      ],
      "metadata": {
        "id": "Yf-O1fQTs4kG"
      },
      "execution_count": null,
      "outputs": []
    },
    {
      "cell_type": "code",
      "source": [
        "# View the doc string and function signature\n",
        "# Note it expects a submissions generator\n",
        "# We will create one in a moment.\n",
        "?reader"
      ],
      "metadata": {
        "id": "ZBVvkpRSaa7N"
      },
      "execution_count": null,
      "outputs": []
    },
    {
      "cell_type": "markdown",
      "source": [
        "Once we have a `Reader` we can initialize a `highlighter_client.Dataset` object \n",
        "and with that `Reader`"
      ],
      "metadata": {
        "id": "5JR0IfBTban8"
      }
    },
    {
      "cell_type": "code",
      "source": [
        "from highlighter_client.datasets.dataset import Dataset\n",
        "ds = Dataset(reader=reader)"
      ],
      "metadata": {
        "id": "1Q1bTTxbzDQL"
      },
      "execution_count": null,
      "outputs": []
    },
    {
      "cell_type": "markdown",
      "source": [
        "Now we have a `highlighter_client.Dataset` with a `HighlighterSubmissionsReader` we can populate our `DataFrames`.\n",
        "\n",
        "To understand this we need to know two things.\n",
        "\n",
        "1. `highlighter_client` uses Pandas `BaseModel` to tell GraphQL what values to return from a query. Some common `BaseModel`s are defined in `highlighter_client.base_models` but if you want more fine grained control you can define your own.\n",
        "\n",
        "2. Some GraphQL queries may return many results. These types of queries are called `Connections` are are named accordingly in the code. There is a `paginate` function that takes a `Connection` query and returns a Python Generator.\n",
        "\n",
        "For more information on the BaseModels see `highlighter_client/base_models.py`"
      ],
      "metadata": {
        "id": "NQi6oDCTcQR0"
      }
    },
    {
      "cell_type": "code",
      "source": [
        "from highlighter_client.base_models import DatasetSubmissionTypeConnection\n",
        "from highlighter_client.paginate import paginate\n",
        "\n",
        "dataset_id = ?\n",
        "\n",
        "submissions_gen = paginate(\n",
        "client.datasetSubmissionConnection,\n",
        "DatasetSubmissionTypeConnection,\n",
        "datasetId=dataset_id,\n",
        ")\n",
        "\n",
        "ds.read(submissions_gen=submissions_gen)\n",
        "display_ds(ds)"
      ],
      "metadata": {
        "id": "RKjdi2zzgUGX"
      },
      "execution_count": null,
      "outputs": []
    }
  ]
}