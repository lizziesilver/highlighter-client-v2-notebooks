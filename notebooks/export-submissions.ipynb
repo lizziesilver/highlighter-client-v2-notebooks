{
 "cells": [
  {
   "cell_type": "markdown",
   "metadata": {
    "id": "cHrsxPvHyk7g"
   },
   "source": [
    "# Before You Start\n",
    "\n",
    "1. You will need Credentials to Silverpond's PyPi server. Contact your Customer Success team member if you don't have one.\n",
    "2. Highlighter API Token. If you don't already have one you can do the following:\n",
    "  - Login to Highlighter\n",
    "  - Click on the User Icon 👤 and click their name in the dropdown menu\n",
    "  - Click Request Access Token (At the bottom). This token will be valid until it is deleted\n",
    "  - Save the token somewhere safe\n",
    "3. This notebook should work on any Colab Runtime\n",
    "4. If in Google Colab be sure when the Install Packaged cell completes it may ask you to restart the runtime. Click the button and **do not** re-run the cell again.\n",
    "\n",
    "# This notebook\n",
    "\n",
    "- Installs packages\n",
    "- Exports data from Highlighter\n",
    "- Inspects exported data\n"
   ]
  },
  {
   "cell_type": "code",
   "execution_count": null,
   "metadata": {
    "id": "cHrsxPvHyk7g"
   },
   "outputs": [],
   "source": [
    "def i_am_running_in_colab():\n",
    "    try:\n",
    "        import google.colab\n",
    "        return True\n",
    "    except:\n",
    "        return False\n",
    "    \n",
    "if i_am_running_in_colab():\n",
    "    %env PYPI_USERNAME=rick_sanchez\n",
    "    %env PYPI_PASSWORD=WubbaLubbaDubDub\n",
    "    !git clone https://github.com/silverpond/highlighter-client-v2-notebooks.git\n",
    "    !bash highlighter-client-v2-notebooks/colab-scripts/setup-export-submissions.sh\n"
   ]
  },
  {
   "cell_type": "markdown",
   "metadata": {},
   "source": [
    "# Input Your API Token"
   ]
  },
  {
   "cell_type": "code",
   "execution_count": null,
   "metadata": {
    "id": "CSXtPck7qONj"
   },
   "outputs": [],
   "source": [
    "HL_WEB_GRAPHQL_API_TOKEN=\"<HIGHLIGHTER_API_TOKEN>\"\n",
    "HL_WEB_GRAPHQL_ENDPOINT=\"https://<ACCOUNT_NAME>.highlighter.ai/graphql\""
   ]
  },
  {
   "cell_type": "code",
   "execution_count": null,
   "metadata": {
    "id": "M0UUUeuy_mMb"
   },
   "outputs": [],
   "source": [
    "from highlighter_client.gql_client import HLClient\n",
    "\n",
    "# Small helper function for displaying the DataFrames in the highlighter clinet\n",
    "# dataset object\n",
    "def display_ds(ds, count=10):\n",
    "    display(ds.annotations_df.head(count))\n",
    "    display(ds.images_df.head(count))\n",
    "\n"
   ]
  },
  {
   "cell_type": "markdown",
   "metadata": {
    "id": "V5xgoT06YVuG"
   },
   "source": [
    "# Create a HLClient object from credentials\n",
    "\n",
    "This client will be used when we need to communicate with Highlighter via GraphQL."
   ]
  },
  {
   "cell_type": "markdown",
   "metadata": {
    "id": "7a9jw3uSeP3H"
   },
   "source": [
    "# House Keeping"
   ]
  },
  {
   "cell_type": "code",
   "execution_count": null,
   "metadata": {
    "id": "3_jUmZFgYUD3"
   },
   "outputs": [],
   "source": [
    "client = HLClient.from_credential(api_token=HL_WEB_GRAPHQL_API_TOKEN, endpoint_url=HL_WEB_GRAPHQL_ENDPOINT)"
   ]
  },
  {
   "cell_type": "markdown",
   "metadata": {
    "id": "yeToktEKYtYC"
   },
   "source": [
    "# Read Dataset from Highlighter\n",
    "\n",
    "`HighlighterClient` represents datasets as two Pandas DataFrames `annotations_df` and `images_df`. We can populate a `HighlighterClient.Dataset` in several ways using `Readers`. You can list the availaible `Readers` and load one from its name. In this case we'll be loading the `HighlighterSubmissionsReader` so we can pull submissions down from Highlighter."
   ]
  },
  {
   "cell_type": "code",
   "execution_count": null,
   "metadata": {
    "id": "Yf-O1fQTs4kG"
   },
   "outputs": [],
   "source": [
    "from highlighter_client.datasets import get_reader, READERS\n",
    "\n",
    "print(f\"READERS: {list(READERS.keys())}\")\n",
    "\n",
    "reader = get_reader(\"highlighter_submissions\")()"
   ]
  },
  {
   "cell_type": "code",
   "execution_count": null,
   "metadata": {
    "id": "ZBVvkpRSaa7N"
   },
   "outputs": [],
   "source": [
    "# View the doc string and function signature\n",
    "# Note it expects a submissions generator\n",
    "# We will create one in a moment.\n",
    "?reader"
   ]
  },
  {
   "cell_type": "markdown",
   "metadata": {
    "id": "5JR0IfBTban8"
   },
   "source": [
    "Once we have a `Reader` we can initialize a `highlighter_client.Dataset` object \n",
    "and with that `Reader`"
   ]
  },
  {
   "cell_type": "code",
   "execution_count": null,
   "metadata": {
    "id": "1Q1bTTxbzDQL"
   },
   "outputs": [],
   "source": [
    "from highlighter_client.datasets.dataset import Dataset\n",
    "ds = Dataset(reader=reader)"
   ]
  },
  {
   "cell_type": "markdown",
   "metadata": {
    "id": "NQi6oDCTcQR0"
   },
   "source": [
    "Now we have a `highlighter_client.Dataset` with a `HighlighterSubmissionsReader` we can populate our `DataFrames`.\n",
    "\n",
    "To understand this we need to know two things.\n",
    "\n",
    "1. `highlighter_client` uses Pandas `BaseModel` to tell GraphQL what values to return from a query. Some common `BaseModel`s are defined in `highlighter_client.base_models` but if you want more fine grained control you can define your own.\n",
    "\n",
    "2. Some GraphQL queries may return many results. These types of queries are called `Connections` are are named accordingly in the code. There is a `paginate` function that takes a `Connection` query and returns a Python Generator.\n",
    "\n",
    "For more information on the BaseModels see `highlighter_client/base_models.py`"
   ]
  },
  {
   "cell_type": "code",
   "execution_count": null,
   "metadata": {
    "id": "RKjdi2zzgUGX"
   },
   "outputs": [],
   "source": [
    "from highlighter_client.base_models import DatasetSubmissionTypeConnection\n",
    "from highlighter_client.paginate import paginate\n",
    "\n",
    "dataset_id = ?\n",
    "\n",
    "submissions_gen = paginate(\n",
    "client.datasetSubmissionConnection,\n",
    "DatasetSubmissionTypeConnection,\n",
    "datasetId=dataset_id,\n",
    ")\n",
    "\n",
    "ds.read(submissions_gen=submissions_gen)\n",
    "display_ds(ds)"
   ]
  }
 ],
 "metadata": {
  "accelerator": "GPU",
  "colab": {
   "name": "train_mmdetection.ipynb",
   "provenance": []
  },
  "kernelspec": {
   "display_name": "Python 3 (ipykernel)",
   "language": "python",
   "name": "python3"
  },
  "language_info": {
   "codemirror_mode": {
    "name": "ipython",
    "version": 3
   },
   "file_extension": ".py",
   "mimetype": "text/x-python",
   "name": "python",
   "nbconvert_exporter": "python",
   "pygments_lexer": "ipython3",
   "version": "3.7.9"
  }
 },
 "nbformat": 4,
 "nbformat_minor": 4
}
