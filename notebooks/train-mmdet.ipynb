{
 "cells": [
  {
   "cell_type": "markdown",
   "metadata": {
    "colab": {
     "base_uri": "https://localhost:8080/"
    },
    "id": "CSXtPck7qONj",
    "outputId": "eb341c4a-344c-4ff6-ab93-b82b7b55f43d"
   },
   "source": [
    "# Install Packages\n"
   ]
  },
  {
   "cell_type": "code",
   "execution_count": null,
   "metadata": {
    "colab": {
     "base_uri": "https://localhost:8080/",
     "height": 1000
    },
    "id": "DWkYiA4ydTJl",
    "outputId": "b836b8bd-480d-4a1d-ca47-d5c43c59d015",
    "tags": []
   },
   "outputs": [],
   "source": [
    "def i_am_running_in_colab():\n",
    "    try:\n",
    "        import google.colab\n",
    "        return True\n",
    "    except:\n",
    "        return False\n",
    "    \n",
    "if i_am_running_in_colab():\n",
    "    !git clone "
   ]
  },
  {
   "cell_type": "markdown",
   "metadata": {
    "id": "7a9jw3uSeP3H"
   },
   "source": [
    "# House Keeping"
   ]
  },
  {
   "cell_type": "code",
   "execution_count": null,
   "metadata": {
    "colab": {
     "base_uri": "https://localhost:8080/"
    },
    "id": "bvgAZ5k6W7S6",
    "outputId": "1b1edf7c-a11d-4295-824d-3858733ac60d"
   },
   "outputs": [],
   "source": [
    "# Check Pytorch installation\n",
    "import torch, torchvision\n",
    "print(torch.__version__, torch.cuda.is_available())\n",
    "\n",
    "# Check MMDetection installation\n",
    "import mmdet\n",
    "print(mmdet.__version__)\n",
    "\n",
    "# # Check mmcv installation\n",
    "from mmcv.ops import get_compiling_cuda_version, get_compiler_version\n",
    "print(get_compiling_cuda_version())\n",
    "print(get_compiler_version())"
   ]
  },
  {
   "cell_type": "code",
   "execution_count": null,
   "metadata": {
    "id": "3_jUmZFgYUD3"
   },
   "outputs": [],
   "source": [
    "HL_WEB_GRAPHQL_API_TOKEN=\"...\"\n",
    "HL_WEB_GRAPHQL_ENDPOINT=\"https://<ACCOUNT_NAME>.highlighter.ai/graphql\"\n",
    "\n",
    "dataset_id = 191"
   ]
  },
  {
   "cell_type": "code",
   "execution_count": null,
   "metadata": {
    "id": "M0UUUeuy_mMb"
   },
   "outputs": [],
   "source": [
    "from highlighter_client.gql_client import HLClient\n",
    "\n",
    "# Small helper function for displaying the DataFrames in the highlighter clinet\n",
    "# dataset object\n",
    "def display_ds(ds, count=10):\n",
    "    display(ds.annotations_df.head(count))\n",
    "    display(ds.images_df.head(count))"
   ]
  },
  {
   "cell_type": "markdown",
   "metadata": {
    "id": "V5xgoT06YVuG"
   },
   "source": [
    "# Download data using Highlighter Client.\n",
    "\n",
    "For a more detailed run through of how to use HighlighterClient see the [export-submissions](https://github.com/tall-josh/highlighter-client-v2-notebooks/blob/main/export-submissions.ipynb) notebook.\n"
   ]
  },
  {
   "cell_type": "code",
   "execution_count": null,
   "metadata": {
    "colab": {
     "base_uri": "https://localhost:8080/"
    },
    "id": "uqchyF93W7S-",
    "outputId": "4ae50e3b-99aa-43bc-cc49-8502f83ba5e2"
   },
   "outputs": [],
   "source": [
    "from highlighter_client.datasets import get_reader, get_writer\n",
    "from highlighter_client.datasets.dataset import Dataset\n",
    "from highlighter_client.base_models import DatasetSubmissionTypeConnection\n",
    "from highlighter_client.paginate import paginate\n",
    "\n",
    "ds = Dataset(\n",
    "    reader=get_reader(\"highlighter_submissions\")(),\n",
    "    writer=get_writer(\"coco\")(),\n",
    ")\n",
    "\n",
    "client = HLClient.from_credential(api_token=HL_WEB_GRAPHQL_API_TOKEN, endpoint_url=HL_WEB_GRAPHQL_ENDPOINT)\n",
    "\n",
    "submissions_gen = paginate(\n",
    "client.datasetSubmissionConnection,\n",
    "DatasetSubmissionTypeConnection,\n",
    "datasetId=dataset_id,\n",
    ")\n",
    "\n",
    "print(\"This could take a minute\")\n",
    "ds.read(submissions_gen=submissions_gen)\n"
   ]
  },
  {
   "cell_type": "code",
   "execution_count": null,
   "metadata": {
    "colab": {
     "base_uri": "https://localhost:8080/",
     "height": 709
    },
    "id": "1Q1bTTxbzDQL",
    "outputId": "5e807513-de96-4c03-db2e-0c40a66fd9b7"
   },
   "outputs": [],
   "source": [
    "display_ds(ds)    "
   ]
  },
  {
   "cell_type": "markdown",
   "metadata": {
    "id": "7w2osZBLW7TA"
   },
   "source": [
    "# Preprocessing\n",
    "\n",
    "At this point you may wish to do some pre-processing eg:\n",
    "\n",
    "  - **remove unwanted classes**: You may wish to filter some annotations from your dataset\n",
    "  - **split the data**: notice the `split` column is only a single value *data*. We can apply a random split before saving to `coco` format.\n",
    "\n",
    "To keep things general we will simply split the data into **train** and **test** in this notebook\n",
    "\n",
    "\n"
   ]
  },
  {
   "cell_type": "code",
   "execution_count": null,
   "metadata": {
    "colab": {
     "base_uri": "https://localhost:8080/",
     "height": 424
    },
    "id": "b7LP_4S3W7TA",
    "outputId": "5100dd09-05a6-4fdf-fb04-32214fd91a58"
   },
   "outputs": [],
   "source": [
    "train_frac = 0.8\n",
    "ds.images_df[\"split\"] = \"train\"\n",
    "\n",
    "test_ids = ds.images_df.sample(frac=1-train_frac, random_state=42).image_id\n",
    "ds.images_df.loc[ds.images_df.image_id.isin(test_ids), \"split\"] = \"test\"\n",
    "ds.images_df"
   ]
  },
  {
   "cell_type": "code",
   "execution_count": null,
   "metadata": {
    "id": "uFJhpReJW7TB"
   },
   "outputs": [],
   "source": [
    "from pathlib import Path\n",
    "\n",
    "image_dir = Path(\"data/images\")\n",
    "annotations_dir = Path(\"data/annotatoins\")\n",
    "\n",
    "image_dir.mkdir(parents=True, exist_ok=True)\n",
    "annotations_dir.mkdir(parents=True, exist_ok=True)\n",
    "\n",
    "ds.write(annotations_dir=annotations_dir)"
   ]
  },
  {
   "cell_type": "code",
   "execution_count": null,
   "metadata": {
    "colab": {
     "base_uri": "https://localhost:8080/"
    },
    "id": "O98pgx9FW7TC",
    "outputId": "9f2bafc4-1a12-4298-e2d4-c2bd25eb1db3"
   },
   "outputs": [],
   "source": [
    "from highlighter_client.io import multithread_graphql_image_download\n",
    "\n",
    "result = multithread_graphql_image_download(\n",
    "    client,\n",
    "    list(ds.images_df.image_id.values),\n",
    "    image_dir,\n",
    ")"
   ]
  },
  {
   "cell_type": "markdown",
   "metadata": {
    "id": "0qyzAchwW7TC"
   },
   "source": [
    "# Check the json files exported correctly\n",
    "\n",
    "We'll also get the number of categories in the training data. We will need it\n",
    "when we configure the mmdet model for training.\n"
   ]
  },
  {
   "cell_type": "code",
   "execution_count": null,
   "metadata": {
    "colab": {
     "base_uri": "https://localhost:8080/"
    },
    "id": "D88wpmwLW7TD",
    "outputId": "d9be6c11-0882-45b9-b140-f0825db801bc"
   },
   "outputs": [],
   "source": [
    "import json\n",
    "\n",
    "with (annotations_dir/\"train.json\").open('r') as f:\n",
    "    train_data = json.load(f)\n",
    "    \n",
    "# We'll use this later when configuring the mmdet frcnn model\n",
    "categories = train_data[\"categories\"]\n",
    "sorted(categories, key = lambda i: i[\"id\"])\n",
    "\n",
    "num_classes = len(categories)\n",
    "\n",
    "for c in categories:\n",
    "    print(c)\n",
    "    \n",
    "CLASSES = [i[\"name\"] for i in categories]\n",
    "\n",
    "print(f\"num_images: {len(train_data['images'])}\")\n",
    "print(f\"num_annos: {len(train_data['annotations'])}\")"
   ]
  },
  {
   "cell_type": "code",
   "execution_count": null,
   "metadata": {
    "colab": {
     "base_uri": "https://localhost:8080/"
    },
    "id": "Ad95HUzIW7TE",
    "outputId": "1ddc090d-22a5-40a5-e52d-bd73ccff04ae"
   },
   "outputs": [],
   "source": [
    "from mmcv import Config\n",
    "\n",
    "mmdet_config = dict(\n",
    "    work_dir = \"zzz_work_dir\",\n",
    "    gpu_ids = [0],\n",
    "    seed = 42,\n",
    "    data = dict(\n",
    "        train = dict(\n",
    "            ann_file=str(annotations_dir / \"train.json\"),\n",
    "            img_prefix=str(image_dir),\n",
    "            classes=CLASSES,\n",
    "        ),\n",
    "        val = dict(\n",
    "            ann_file=str(annotations_dir / \"test.json\"),\n",
    "            img_prefix=str(image_dir),\n",
    "            classes=CLASSES,\n",
    "        ),\n",
    "        test = dict(\n",
    "            ann_file=str(annotations_dir / \"test.json\"),\n",
    "            img_prefix=str(image_dir),\n",
    "            classes=CLASSES,\n",
    "        ),\n",
    "    ),\n",
    "    model = dict(\n",
    "        roi_head = dict(\n",
    "            bbox_head = dict(\n",
    "                num_classes = num_classes,\n",
    "            ),\n",
    "        ),\n",
    "    )\n",
    ")\n",
    "cfg = Config.fromfile(\"mmdetection/configs/faster_rcnn/faster_rcnn_r50_fpn_1x_coco.py\")\n",
    "cfg.merge_from_dict(mmdet_config)\n",
    "cfg.data.train"
   ]
  },
  {
   "cell_type": "code",
   "execution_count": null,
   "metadata": {
    "colab": {
     "base_uri": "https://localhost:8080/"
    },
    "id": "dBXYc-w3W7TF",
    "outputId": "2cf82318-7f17-4394-df76-9206d878a182"
   },
   "outputs": [],
   "source": [
    "from mmdet.datasets import build_dataset\n",
    "from mmdet.models import build_detector\n",
    "from mmdet.apis import train_detector\n",
    "import mmcv\n",
    "import os.path as osp\n",
    "\n",
    "# Build dataset\n",
    "datasets = [build_dataset(cfg.data.train)]\n",
    "\n",
    "# Build the detector\n",
    "model = build_detector(\n",
    "    cfg.model, train_cfg=cfg.get('train_cfg'), test_cfg=cfg.get('test_cfg'))\n",
    "# Add an attribute for visualization convenience\n",
    "model.CLASSES = CLASSES\n",
    "\n",
    "# Create work_dir\n",
    "mmcv.mkdir_or_exist(osp.abspath(cfg.work_dir))"
   ]
  },
  {
   "cell_type": "code",
   "execution_count": null,
   "metadata": {
    "colab": {
     "base_uri": "https://localhost:8080/"
    },
    "id": "76I0qhnOW7TG",
    "outputId": "274a7e9b-8d45-4b9a-d4bc-2b86c3f33423"
   },
   "outputs": [],
   "source": [
    "train_detector(model, datasets, cfg, distributed=False, validate=True)"
   ]
  },
  {
   "cell_type": "code",
   "execution_count": null,
   "metadata": {
    "id": "N-qdkH-29pUl"
   },
   "outputs": [],
   "source": []
  }
 ],
 "metadata": {
  "accelerator": "GPU",
  "colab": {
   "name": "train_mmdetection.ipynb",
   "provenance": []
  },
  "kernelspec": {
   "display_name": "Python 3 (ipykernel)",
   "language": "python",
   "name": "python3"
  },
  "language_info": {
   "codemirror_mode": {
    "name": "ipython",
    "version": 3
   },
   "file_extension": ".py",
   "mimetype": "text/x-python",
   "name": "python",
   "nbconvert_exporter": "python",
   "pygments_lexer": "ipython3",
   "version": "3.7.9"
  }
 },
 "nbformat": 4,
 "nbformat_minor": 4
}
